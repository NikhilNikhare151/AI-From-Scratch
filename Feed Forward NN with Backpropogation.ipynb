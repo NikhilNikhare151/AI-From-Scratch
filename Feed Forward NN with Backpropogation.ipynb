{
 "cells": [
  {
   "cell_type": "markdown",
   "id": "dd82f66b-bf6e-4900-80bc-450a8591705a",
   "metadata": {},
   "source": [
    "# Feed Forward NN with Backpropogation"
   ]
  },
  {
   "cell_type": "code",
   "execution_count": 1,
   "id": "894aebd5-be07-44bf-8efe-452151ab1e01",
   "metadata": {},
   "outputs": [],
   "source": [
    "import numpy as np\n",
    "import matplotlib.pyplot as plt"
   ]
  },
  {
   "cell_type": "code",
   "execution_count": 9,
   "id": "6bb52f7a-81ec-45be-862b-374d4c0ccfa5",
   "metadata": {},
   "outputs": [],
   "source": [
    "class FeedForwardNN:\n",
    "    def __init__(self, learning_rate, epochs):\n",
    "        self.lr = learning_rate\n",
    "        self.epochs = epochs\n",
    "        self.w1 = np.random.randn(2, 2)  # 2 hidden neuron\n",
    "        self.b1 = np.random.randn(1, 2)  # Bias for hiddle\n",
    "        self.w2 = np.random.randn(2, 1)  # 1 Output neuron\n",
    "        self.b2 = np.random.randn(1, 1)  # Bias for output\n",
    "        self.error_ls = []               # Storing error at every 500 epochs\n",
    "    \n",
    "    def sigmoid(self, x):\n",
    "        return 1 / (1 + np.exp(-x))\n",
    "\n",
    "    def sigmoid_derevative(self, x):\n",
    "        return x * (1 - x)\n",
    "\n",
    "    def fit(self, X, y):\n",
    "        for i in range(self.epochs):\n",
    "            # Feed Forward\n",
    "            hidden_input = np.dot(X, self.w1) + self.b1\n",
    "            hidden_output = self.sigmoid(hidden_input)\n",
    "\n",
    "            final_input = np.dot(hidden_output, self.w2) + self.b2\n",
    "            final_output = self.sigmoid(final_input)\n",
    "\n",
    "            # Compute the Error\n",
    "            error = y - final_output\n",
    "\n",
    "            # Backpropogation\n",
    "            der_output = error * self.sigmoid_derevative(final_output)\n",
    "            der_hidden = np.dot(der_output, self.w2.T) * self.sigmoid_derevative(hidden_output)\n",
    "\n",
    "            # update the weights and biases\n",
    "            self.w2 += np.dot(hidden_output.T, der_output) * self.lr\n",
    "            self.b2 += np.sum(der_output, axis=0, keepdims=True) * self.lr\n",
    "            self.w1 += np.dot(X.T, der_hidden) * self.lr\n",
    "            self.b1 += np.sum(der_hidden, axis=0, keepdims=True) * self.lr\n",
    "\n",
    "            # Print Loss every 500 epochs\n",
    "            if i % 500 ==0:\n",
    "                loss = np.mean(np.abs(error))\n",
    "                self.error_ls.append(loss)\n",
    "                print(f\"Epoch {i}, Loss: {loss}\")\n",
    "        \n",
    "    def predict(self, X):\n",
    "        hidden_input = np.dot(X, self.w1) + self.b1\n",
    "        hidden_output = self.sigmoid(hidden_input)\n",
    "\n",
    "        final_input = np.dot(hidden_output, self.w2) + self.b2\n",
    "        final_output = self.sigmoid(final_input)\n",
    "        return (final_output > 0.5).astype(int).ravel()      # Converted the probability into binary output"
   ]
  },
  {
   "cell_type": "code",
   "execution_count": 10,
   "id": "4a6fd905-840e-4305-9810-90a86fafc3af",
   "metadata": {},
   "outputs": [],
   "source": [
    "inp_data = np.array([[0, 0],[0, 1],[1, 0],[1, 1]])\n",
    "XOR_out = np.array([[0], [1], [1], [0]])"
   ]
  },
  {
   "cell_type": "code",
   "execution_count": 11,
   "id": "6d1a55da-96b2-41eb-bab6-c53126819e5c",
   "metadata": {},
   "outputs": [],
   "source": [
    "xor_nn = FeedForwardNN(learning_rate=0.5, epochs=10000)"
   ]
  },
  {
   "cell_type": "code",
   "execution_count": 12,
   "id": "e7635dbb-f286-4947-bdd0-b0ebdc56af5f",
   "metadata": {},
   "outputs": [
    {
     "name": "stdout",
     "output_type": "stream",
     "text": [
      "Epoch 0, Loss: 0.4998022060257505\n",
      "Epoch 500, Loss: 0.4925007586524134\n",
      "Epoch 1000, Loss: 0.15184248140483805\n",
      "Epoch 1500, Loss: 0.07280623596958265\n",
      "Epoch 2000, Loss: 0.05291077816022666\n",
      "Epoch 2500, Loss: 0.04323496238468928\n",
      "Epoch 3000, Loss: 0.037318088188674575\n",
      "Epoch 3500, Loss: 0.03324606017354487\n",
      "Epoch 4000, Loss: 0.030233321695344505\n",
      "Epoch 4500, Loss: 0.02789252278746416\n",
      "Epoch 5000, Loss: 0.02600844518710935\n",
      "Epoch 5500, Loss: 0.024450985893963474\n",
      "Epoch 6000, Loss: 0.023136386330384076\n",
      "Epoch 6500, Loss: 0.022008025149990958\n",
      "Epoch 7000, Loss: 0.021026102516879842\n",
      "Epoch 7500, Loss: 0.02016173511937443\n",
      "Epoch 8000, Loss: 0.019393396728864556\n",
      "Epoch 8500, Loss: 0.018704678816497677\n",
      "Epoch 9000, Loss: 0.018082829965231723\n",
      "Epoch 9500, Loss: 0.017517773446829903\n"
     ]
    }
   ],
   "source": [
    "xor_nn.fit(inp_data, XOR_out)"
   ]
  },
  {
   "cell_type": "code",
   "execution_count": 13,
   "id": "53187844-7c7a-41c8-8623-cd29d344b60d",
   "metadata": {},
   "outputs": [
    {
     "data": {
      "text/plain": [
       "array([0])"
      ]
     },
     "execution_count": 13,
     "metadata": {},
     "output_type": "execute_result"
    }
   ],
   "source": [
    "xor_nn.predict([0, 0])"
   ]
  },
  {
   "cell_type": "code",
   "execution_count": 14,
   "id": "2c849ad4-d125-455c-8309-88efd64bcc52",
   "metadata": {},
   "outputs": [
    {
     "data": {
      "text/plain": [
       "array([1])"
      ]
     },
     "execution_count": 14,
     "metadata": {},
     "output_type": "execute_result"
    }
   ],
   "source": [
    "xor_nn.predict([0, 1])"
   ]
  },
  {
   "cell_type": "code",
   "execution_count": 15,
   "id": "c6a59e13-fd68-4a9c-a98b-467606d6fea4",
   "metadata": {},
   "outputs": [
    {
     "data": {
      "text/plain": [
       "array([1])"
      ]
     },
     "execution_count": 15,
     "metadata": {},
     "output_type": "execute_result"
    }
   ],
   "source": [
    "xor_nn.predict([1, 0])"
   ]
  },
  {
   "cell_type": "code",
   "execution_count": 16,
   "id": "6d4b6a56-47a3-4161-a6c8-679fad94e8d5",
   "metadata": {},
   "outputs": [
    {
     "data": {
      "text/plain": [
       "array([0])"
      ]
     },
     "execution_count": 16,
     "metadata": {},
     "output_type": "execute_result"
    }
   ],
   "source": [
    "xor_nn.predict([1, 1])"
   ]
  },
  {
   "cell_type": "code",
   "execution_count": 17,
   "id": "a98c8cd1-d3ee-433c-848a-e8ac036de0cf",
   "metadata": {},
   "outputs": [
    {
     "data": {
      "text/plain": [
       "[array([0]), array([1]), array([1]), array([0])]"
      ]
     },
     "execution_count": 17,
     "metadata": {},
     "output_type": "execute_result"
    }
   ],
   "source": [
    "[xor_nn.predict(i) for i in inp_data]"
   ]
  },
  {
   "cell_type": "code",
   "execution_count": 18,
   "id": "aa299eae-a30b-492d-8fb1-35f3c6bcd098",
   "metadata": {},
   "outputs": [
    {
     "data": {
      "image/png": "[encoded data removed]",
      "text/plain": [
       "<Figure size 1200x500 with 1 Axes>"
      ]
     },
     "metadata": {},
     "output_type": "display_data"
    }
   ],
   "source": [
    "plt.figure(figsize=(12, 5))\n",
    "plt.plot(range(1, 21), xor_nn.error_ls, marker=\"o\", markerfacecolor=\"#FFFFFF\")\n",
    "plt.title(\"Loss Visualization\")\n",
    "plt.xlabel(\"Epochs\")\n",
    "plt.ylabel(\"Loss\")\n",
    "plt.grid(zorder=0)\n",
    "plt.xticks(range(1, 21))\n",
    "plt.show()"
   ]
  },
  {
   "cell_type": "code",
   "execution_count": null,
   "id": "21f4217e-38cf-49c6-b51b-c80addf1b1bc",
   "metadata": {},
   "outputs": [],
   "source": []
  }
 ],
 "metadata": {
  "kernelspec": {
   "display_name": "Python 3 (ipykernel)",
   "language": "python",
   "name": "python3"
  },
  "language_info": {
   "codemirror_mode": {
    "name": "ipython",
    "version": 3
   },
   "file_extension": ".py",
   "mimetype": "text/x-python",
   "name": "python",
   "nbconvert_exporter": "python",
   "pygments_lexer": "ipython3",
   "version": "3.11.9"
  }
 },
 "nbformat": 4,
 "nbformat_minor": 5
}
