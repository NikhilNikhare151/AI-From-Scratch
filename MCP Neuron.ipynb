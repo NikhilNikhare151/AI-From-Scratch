{
 "cells": [
  {
   "cell_type": "markdown",
   "id": "621930ef-9f87-4624-b8ae-312fe53ed213",
   "metadata": {},
   "source": [
    "# MCP Neuron"
   ]
  },
  {
   "cell_type": "code",
   "execution_count": 1,
   "id": "07a420f6-198f-4474-b533-1779385e662b",
   "metadata": {},
   "outputs": [],
   "source": [
    "import numpy as np"
   ]
  },
  {
   "cell_type": "code",
   "execution_count": 2,
   "id": "dad8a2be-ad1a-473e-ad6e-79ce09c25f87",
   "metadata": {},
   "outputs": [],
   "source": [
    "inp_data = np.array([[0, 0],[0, 1],[1, 0],[1, 1]])\n",
    "AND_out = np.array([0, 0, 0, 1])\n",
    "OR_out = np.array([0, 1, 1, 1])"
   ]
  },
  {
   "cell_type": "code",
   "execution_count": 7,
   "id": "f7fc8efe-b0e3-4c48-aa2a-c2b25ade2968",
   "metadata": {},
   "outputs": [],
   "source": [
    "def neuron_AND(inp):\n",
    "    out = []\n",
    "    for i in inp:\n",
    "        if np.sum(i) > 1.5:\n",
    "            out.append(1)\n",
    "        else:\n",
    "            out.append(0)\n",
    "    return np.array(out)"
   ]
  },
  {
   "cell_type": "code",
   "execution_count": 10,
   "id": "8f8367f5-7d86-4137-87a5-a21c837fb051",
   "metadata": {},
   "outputs": [
    {
     "data": {
      "text/plain": [
       "array([0, 0, 0, 1])"
      ]
     },
     "execution_count": 10,
     "metadata": {},
     "output_type": "execute_result"
    }
   ],
   "source": [
    "res_AND = neuron_AND(inp_data)\n",
    "res_AND"
   ]
  },
  {
   "cell_type": "code",
   "execution_count": 11,
   "id": "baf29743-6c4d-4307-a877-3eaf56cd9505",
   "metadata": {},
   "outputs": [],
   "source": [
    "def neuron_OR(inp):\n",
    "    out = []\n",
    "    for i in inp:\n",
    "        if np.sum(i) > 0.5:\n",
    "            out.append(1)\n",
    "        else:\n",
    "            out.append(0)\n",
    "    return np.array(out)"
   ]
  },
  {
   "cell_type": "code",
   "execution_count": 12,
   "id": "a783dc73-b5f9-4c64-92c9-8330b466e565",
   "metadata": {},
   "outputs": [
    {
     "data": {
      "text/plain": [
       "array([0, 1, 1, 1])"
      ]
     },
     "execution_count": 12,
     "metadata": {},
     "output_type": "execute_result"
    }
   ],
   "source": [
    "res_OR = neuron_OR(inp_data)\n",
    "res_OR"
   ]
  },
  {
   "cell_type": "code",
   "execution_count": null,
   "id": "4e8c3569-e1a6-43b5-b2d6-a17ef05a9198",
   "metadata": {},
   "outputs": [],
   "source": []
  }
 ],
 "metadata": {
  "kernelspec": {
   "display_name": "Python 3 (ipykernel)",
   "language": "python",
   "name": "python3"
  },
  "language_info": {
   "codemirror_mode": {
    "name": "ipython",
    "version": 3
   },
   "file_extension": ".py",
   "mimetype": "text/x-python",
   "name": "python",
   "nbconvert_exporter": "python",
   "pygments_lexer": "ipython3",
   "version": "3.11.9"
  }
 },
 "nbformat": 4,
 "nbformat_minor": 5
}
