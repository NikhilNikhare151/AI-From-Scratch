{
 "cells": [
  {
   "cell_type": "markdown",
   "id": "9b07f217-6ecf-4d80-a720-2b890d7d3103",
   "metadata": {},
   "source": [
    "# Perceptron by Frank Rossenbalt Implementation"
   ]
  },
  {
   "cell_type": "code",
   "execution_count": 1,
   "id": "514768cf-91cd-40b1-a081-d0081d4fb7d8",
   "metadata": {},
   "outputs": [],
   "source": [
    "import numpy as np"
   ]
  },
  {
   "cell_type": "code",
   "execution_count": 2,
   "id": "0d8b1864-42d2-48ca-86ff-0dea0880c237",
   "metadata": {},
   "outputs": [],
   "source": [
    "class Perceptron:\n",
    "    def __init__(self, input_dim, learning_rate, epochs):\n",
    "        self.epochs = epochs\n",
    "        self.lr = learning_rate\n",
    "        self.weights = np.random.rand(input_dim)\n",
    "        self.bias = np.random.rand()\n",
    "\n",
    "    def step_function(self, x):\n",
    "        return 1 if x > 94 else 0 # give any threshold value\n",
    "\n",
    "    def predict(self, inp):\n",
    "        weighted_sum = np.dot(inp, self.weights) + self.bias\n",
    "        return self.step_function(weighted_sum)\n",
    "\n",
    "    def fit(self, inp, out):\n",
    "        for i in range(self.epochs):\n",
    "            for j in range(len(inp)):\n",
    "                pred = self.predict(inp[j])\n",
    "                error = out[j] - pred\n",
    "\n",
    "                self.weights += (self.lr * error * inp[j])\n",
    "                self.bias += (self.lr * error)"
   ]
  },
  {
   "cell_type": "code",
   "execution_count": 3,
   "id": "8f39cdf0-f2ab-4353-be2c-813361efa64a",
   "metadata": {},
   "outputs": [],
   "source": [
    "inp_data = np.array([[0,0],[0,1],[1,0],[1,1]])\n",
    "AND_out = np.array([0, 0, 0, 1])"
   ]
  },
  {
   "cell_type": "code",
   "execution_count": 4,
   "id": "f3318dbc-482e-4b86-9f52-1cf9f7a7f692",
   "metadata": {},
   "outputs": [],
   "source": [
    "and_perceptron = Perceptron(input_dim= 2, learning_rate= 0.5, epochs= 1000)"
   ]
  },
  {
   "cell_type": "code",
   "execution_count": 5,
   "id": "8dc410f5-10c7-4bfb-84b9-fd59987a8841",
   "metadata": {},
   "outputs": [],
   "source": [
    "and_perceptron.fit(inp_data, AND_out)"
   ]
  },
  {
   "cell_type": "code",
   "execution_count": 6,
   "id": "8e09034e-ab56-4448-b026-6262e2662e73",
   "metadata": {},
   "outputs": [
    {
     "data": {
      "text/plain": [
       "0"
      ]
     },
     "execution_count": 6,
     "metadata": {},
     "output_type": "execute_result"
    }
   ],
   "source": [
    "and_perceptron.predict([0, 0])"
   ]
  },
  {
   "cell_type": "code",
   "execution_count": 7,
   "id": "3f88bc64-6e2d-4571-b813-5bbcf9b90f86",
   "metadata": {},
   "outputs": [
    {
     "data": {
      "text/plain": [
       "0"
      ]
     },
     "execution_count": 7,
     "metadata": {},
     "output_type": "execute_result"
    }
   ],
   "source": [
    "and_perceptron.predict([0, 1])"
   ]
  },
  {
   "cell_type": "code",
   "execution_count": 8,
   "id": "6c1870cd-c37d-48b0-83df-5e8953a5c564",
   "metadata": {},
   "outputs": [
    {
     "data": {
      "text/plain": [
       "1"
      ]
     },
     "execution_count": 8,
     "metadata": {},
     "output_type": "execute_result"
    }
   ],
   "source": [
    "and_perceptron.predict([1,1])"
   ]
  },
  {
   "cell_type": "code",
   "execution_count": 9,
   "id": "ffbacb01-960f-4e19-9abd-aaf5fc63a83c",
   "metadata": {},
   "outputs": [
    {
     "data": {
      "text/plain": [
       "0"
      ]
     },
     "execution_count": 9,
     "metadata": {},
     "output_type": "execute_result"
    }
   ],
   "source": [
    "and_perceptron.predict([0, 1])"
   ]
  },
  {
   "cell_type": "code",
   "execution_count": 10,
   "id": "1bd8ddb5-3ee3-441d-a5f5-887e0205a095",
   "metadata": {},
   "outputs": [
    {
     "data": {
      "text/plain": [
       "[0, 0, 0, 1]"
      ]
     },
     "execution_count": 10,
     "metadata": {},
     "output_type": "execute_result"
    }
   ],
   "source": [
    "[and_perceptron.predict(i) for i in inp_data]"
   ]
  },
  {
   "cell_type": "code",
   "execution_count": 11,
   "id": "cb29adcf-9bc1-429b-8aa9-867d758a5e95",
   "metadata": {},
   "outputs": [],
   "source": [
    "or_perceptron = Perceptron(input_dim= 2, learning_rate= 0.5, epochs= 1000)"
   ]
  },
  {
   "cell_type": "code",
   "execution_count": 12,
   "id": "b8dcbfa6-1a26-4fe1-96ea-7c8241649e33",
   "metadata": {},
   "outputs": [],
   "source": [
    "OR_out = np.array([0, 1, 1, 1])"
   ]
  },
  {
   "cell_type": "code",
   "execution_count": 13,
   "id": "362c6c04-52f3-410a-8028-045fc98fb3d0",
   "metadata": {},
   "outputs": [],
   "source": [
    "or_perceptron.fit(inp_data, OR_out)"
   ]
  },
  {
   "cell_type": "code",
   "execution_count": 14,
   "id": "71915755-1963-4a40-a051-1872c754bcbf",
   "metadata": {},
   "outputs": [
    {
     "data": {
      "text/plain": [
       "1"
      ]
     },
     "execution_count": 14,
     "metadata": {},
     "output_type": "execute_result"
    }
   ],
   "source": [
    "or_perceptron.predict([1, 1])"
   ]
  },
  {
   "cell_type": "code",
   "execution_count": 15,
   "id": "4f4f9152-6a09-46b6-b373-9f90744864a5",
   "metadata": {},
   "outputs": [
    {
     "data": {
      "text/plain": [
       "[0, 1, 1, 1]"
      ]
     },
     "execution_count": 15,
     "metadata": {},
     "output_type": "execute_result"
    }
   ],
   "source": [
    "[or_perceptron.predict(i) for i in inp_data]"
   ]
  },
  {
   "cell_type": "code",
   "execution_count": 19,
   "id": "34db6182-acee-4fd4-a9d6-ab32977e1254",
   "metadata": {},
   "outputs": [],
   "source": [
    "# for XOR out\n",
    "XOR_out = np.array([0, 1, 1, 0])"
   ]
  },
  {
   "cell_type": "code",
   "execution_count": 24,
   "id": "f3d90957-6df8-4818-94a8-262f41916db1",
   "metadata": {},
   "outputs": [],
   "source": [
    "xor_perceptron = Perceptron(input_dim= 2, learning_rate= 0.5, epochs= 5000)"
   ]
  },
  {
   "cell_type": "code",
   "execution_count": 25,
   "id": "eaa68552-3818-4c72-98c6-25ada9c96496",
   "metadata": {},
   "outputs": [],
   "source": [
    "xor_perceptron.fit(inp_data, XOR_out)"
   ]
  },
  {
   "cell_type": "code",
   "execution_count": 26,
   "id": "e679b88e-f138-4ada-a7be-f9e452c15b7d",
   "metadata": {},
   "outputs": [
    {
     "data": {
      "text/plain": [
       "1"
      ]
     },
     "execution_count": 26,
     "metadata": {},
     "output_type": "execute_result"
    }
   ],
   "source": [
    "xor_perceptron.predict([0, 0])"
   ]
  },
  {
   "cell_type": "code",
   "execution_count": 27,
   "id": "24584b7f-53c0-4a25-86d1-4b09a6e233b9",
   "metadata": {},
   "outputs": [
    {
     "data": {
      "text/plain": [
       "0"
      ]
     },
     "execution_count": 27,
     "metadata": {},
     "output_type": "execute_result"
    }
   ],
   "source": [
    "xor_perceptron.predict([1, 0])"
   ]
  },
  {
   "cell_type": "code",
   "execution_count": null,
   "id": "099066cb-b566-4b84-8f1d-677978b1564e",
   "metadata": {},
   "outputs": [],
   "source": []
  }
 ],
 "metadata": {
  "kernelspec": {
   "display_name": "Python 3 (ipykernel)",
   "language": "python",
   "name": "python3"
  },
  "language_info": {
   "codemirror_mode": {
    "name": "ipython",
    "version": 3
   },
   "file_extension": ".py",
   "mimetype": "text/x-python",
   "name": "python",
   "nbconvert_exporter": "python",
   "pygments_lexer": "ipython3",
   "version": "3.11.9"
  }
 },
 "nbformat": 4,
 "nbformat_minor": 5
}
