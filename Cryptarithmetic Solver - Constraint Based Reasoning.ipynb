{
 "cells": [
  {
   "cell_type": "markdown",
   "id": "f558ed46-9a9a-46fa-856e-018cb39877da",
   "metadata": {},
   "source": [
    "# Cryptarithmetic Solver - Constraint Based Reasoning"
   ]
  },
  {
   "cell_type": "code",
   "execution_count": 3,
   "id": "764e42c6-bbcf-416e-adba-484198f3bd2e",
   "metadata": {},
   "outputs": [],
   "source": [
    "from constraint import Problem, AllDifferentConstraint"
   ]
  },
  {
   "cell_type": "code",
   "execution_count": 6,
   "id": "b177d51f-2666-4711-8788-cb8f3bfdddd5",
   "metadata": {},
   "outputs": [],
   "source": [
    "def solve_cryptarithmetic():\n",
    "    problem = Problem()\n",
    "\n",
    "     # BASE + BALL = GAMES\n",
    "    letters = [\"B\", \"A\", \"S\", \"E\", \"L\", \"G\", \"M\"]\n",
    "\n",
    "    problem.addVariables(letters, range(10))\n",
    "\n",
    "    problem.addConstraint(AllDifferentConstraint())\n",
    "\n",
    "    problem.addConstraint(lambda B, G: B != 0 and G != 0, (\"B\", \"G\"))\n",
    "\n",
    "    problem.addConstraint(\n",
    "        lambda B, A, S, E, L, G, M:\n",
    "        (1000 * B + 100 * A + 10 * S + E) + \n",
    "        (1000 * B + 100 * A + 10 * L + L) ==\n",
    "        (10000 * G + 1000 * A + 100 * M + 10 * E + S),\n",
    "        (\"B\", \"A\", \"S\", \"E\", \"L\", \"G\", \"M\")\n",
    "    )\n",
    "\n",
    "    solutions = problem.getSolutions()\n",
    "\n",
    "    if solutions:\n",
    "        for i in solutions:\n",
    "            print(f\"Solution : {i}\")\n",
    "    else:\n",
    "        print(\"Solution not found\")"
   ]
  },
  {
   "cell_type": "code",
   "execution_count": 7,
   "id": "81cc54d2-0077-4b87-a8f4-911bf96caa07",
   "metadata": {},
   "outputs": [
    {
     "name": "stdout",
     "output_type": "stream",
     "text": [
      "Solution : {'B': 7, 'G': 1, 'A': 4, 'E': 3, 'L': 5, 'M': 9, 'S': 8}\n"
     ]
    }
   ],
   "source": [
    "solve_cryptarithmetic()"
   ]
  },
  {
   "cell_type": "code",
   "execution_count": null,
   "id": "e727964d-f4e0-48be-adbc-440f77319372",
   "metadata": {},
   "outputs": [],
   "source": []
  }
 ],
 "metadata": {
  "kernelspec": {
   "display_name": "Python 3 (ipykernel)",
   "language": "python",
   "name": "python3"
  },
  "language_info": {
   "codemirror_mode": {
    "name": "ipython",
    "version": 3
   },
   "file_extension": ".py",
   "mimetype": "text/x-python",
   "name": "python",
   "nbconvert_exporter": "python",
   "pygments_lexer": "ipython3",
   "version": "3.11.9"
  }
 },
 "nbformat": 4,
 "nbformat_minor": 5
}
